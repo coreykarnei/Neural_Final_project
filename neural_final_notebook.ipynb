{
 "cells": [
  {
   "cell_type": "code",
   "execution_count": 1,
   "metadata": {},
   "outputs": [],
   "source": [
    "# from mat4py import loadmat\n",
    "from scipy.io import loadmat\n",
    "from pymatreader import read_mat\n",
    "import pandas as pd\n",
    "import numpy as np"
   ]
  },
  {
   "cell_type": "code",
   "execution_count": 2,
   "metadata": {},
   "outputs": [],
   "source": [
    "subjects = read_mat(\"subjectData.mat\")"
   ]
  },
  {
   "cell_type": "code",
   "execution_count": 3,
   "metadata": {},
   "outputs": [],
   "source": [
    "class Data:\n",
    "    def __init__(self, dataObj):\n",
    "        self.subject1 = Subject(dataObj['subjectData'][\"preON\"][0], dataObj['subjectData'][\"postON\"][0])\n",
    "#         self.subject2 = Subject(dataObj['subjectData'][\"preON\"][1], dataObj['subjectData'][\"postON\"][1])\n",
    "        \n",
    "class Subject:\n",
    "    def __init__(self, preON, postON):\n",
    "        self.fs = preON['header'][0][\"fs\"]\n",
    "        self.eegLabels = preON['header'][0][\"eegLabels\"]\n",
    "        #not sure how to use eegLocs, it's kinda gross looking\n",
    "        self.eegLocs = preON['header'][0][\"eegLocs\"]\n",
    "        \n",
    "        self.pre_stim_runs = {}\n",
    "        self.post_stim_runs = {}\n",
    "        \n",
    "        runs = [\"run1\", \"run2\", \"run3\"]\n",
    "        for i, run in enumerate(runs):\n",
    "            self.pre_stim_runs[run] = Run(preON['eeg'][i], preON['header'][i], self.fs)\n",
    "            self.post_stim_runs[run] = Run(postON['eeg'][i], postON['header'][i], self.fs)\n",
    "            \n",
    "    def print_struct(self):\n",
    "        print(\"Stored in Selected Subject::\")\n",
    "        print(f\"fs: {self.fs}\")\n",
    "        print(f\"EEG Labels: {self.eegLabels}\")\n",
    "        print(f\"Number of runs pre-stimulation: {len(self.pre_stim_runs)}\")\n",
    "        print(f\"Number of runs pre-stimulation: {len(self.pre_stim_runs)}\")\n",
    "        runs = [\"run1\", \"run2\", \"run3\"]\n",
    "        print(\"Pre-Stimulation:\")\n",
    "        for i, run in enumerate(runs):\n",
    "            print(f\"    Data shape: {self.pre_stim_runs[run].raw_eeg.shape}, number of trials: {len(self.pre_stim_runs[run].trials)}\")\n",
    "        print(\"Post-Stimulation:\")\n",
    "        for i, run in enumerate(runs):\n",
    "            print(f\"    Data shape: {self.post_stim_runs[run].raw_eeg.shape}, number of trials: {len(self.pre_stim_runs[run].trials)}\")\n",
    "        \n",
    "class Run:\n",
    "    def __init__(self, eeg, header, fs):\n",
    "        self.raw_eeg = np.array(eeg)\n",
    "        \n",
    "        trig_type = header[\"triggers\"][\"TYP\"]\n",
    "        trig_pos = header[\"triggers\"][\"POS\"]\n",
    "        \n",
    "        trials = []\n",
    "        for i, t_type in enumerate(trig_type):\n",
    "            if t_type == 1000:\n",
    "                trial = {}\n",
    "                trial[\"rest_start\"] = trig_pos[i]\n",
    "            elif t_type == 786:\n",
    "                trial[\"fixation_start\"] = trig_pos[i]\n",
    "            elif (t_type == 769):\n",
    "                trial[\"cue_start\"] = trig_pos[i]\n",
    "                trial[\"hand\"] = \"right\"\n",
    "            elif (t_type == 770):\n",
    "                trial[\"cue_start\"] = trig_pos[i]\n",
    "                trial[\"hand\"] = \"left\"\n",
    "            elif (t_type == 7691) or (t_type == 7701):\n",
    "                trial[\"execution_start\"] = trig_pos[i]\n",
    "            elif (t_type == 7692) or (t_type == 7702):\n",
    "                trial[\"end\"] = trig_pos[i]\n",
    "                seconds = (trig_pos[i] - trial[\"execution_start\"]) / fs\n",
    "                if seconds > 7.0:\n",
    "                    trial[\"fail_type\"] = \"timeout\"\n",
    "                else:\n",
    "                    trial[\"fail_type\"] = \"miss\"\n",
    "                trial[\"hit\"] = False\n",
    "                trials.append(trial)\n",
    "            elif (t_type == 7693) or (t_type == 7703):\n",
    "                trial[\"end\"] = trig_pos[i]\n",
    "                trial[\"hit\"] = True\n",
    "                trial[\"fail_type\"] = \"N/A\"\n",
    "                trials.append(trial)\n",
    "        self.trials = trials\n",
    "    \n",
    "    \n",
    "    \n"
   ]
  },
  {
   "cell_type": "code",
   "execution_count": 4,
   "metadata": {},
   "outputs": [
    {
     "name": "stdout",
     "output_type": "stream",
     "text": [
      "Stored in Selected Subject::\n",
      "fs: 512\n",
      "EEG Labels: ['FP1', 'FPZ', 'FP2', 'F7', 'F3', 'FZ', 'F4', 'F8', 'FC5', 'FC1', 'FC2', 'FC6', 'M1', 'T7', 'C3', 'CZ', 'C4', 'T8', 'M2', 'CP5', 'CP1', 'CP2', 'CP6', 'P7', 'P3', 'PZ', 'P4', 'P8', 'POZ', 'O1', 'OZ', 'O2']\n",
      "Number of runs pre-stimulation: 3\n",
      "Number of runs pre-stimulation: 3\n",
      "Pre-Stimulation:\n",
      "    Data shape: (115200, 32), number of trials: 20\n",
      "    Data shape: (115712, 32), number of trials: 20\n",
      "    Data shape: (115712, 32), number of trials: 20\n",
      "Post-Stimulation:\n",
      "    Data shape: (138752, 32), number of trials: 20\n",
      "    Data shape: (115200, 32), number of trials: 20\n",
      "    Data shape: (107520, 32), number of trials: 20\n"
     ]
    }
   ],
   "source": [
    "d = Data(subjects)\n",
    "d.subject1.print_struct()"
   ]
  },
  {
   "cell_type": "code",
   "execution_count": null,
   "metadata": {},
   "outputs": [],
   "source": []
  }
 ],
 "metadata": {
  "kernelspec": {
   "display_name": "Python 3",
   "language": "python",
   "name": "python3"
  },
  "language_info": {
   "codemirror_mode": {
    "name": "ipython",
    "version": 3
   },
   "file_extension": ".py",
   "mimetype": "text/x-python",
   "name": "python",
   "nbconvert_exporter": "python",
   "pygments_lexer": "ipython3",
   "version": "3.8.5"
  }
 },
 "nbformat": 4,
 "nbformat_minor": 4
}
